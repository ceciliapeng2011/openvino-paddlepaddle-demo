{
 "cells": [
  {
   "cell_type": "markdown",
   "id": "2ef43adf-f712-4875-916d-1e351e4ea2ee",
   "metadata": {},
   "source": [
    "# PaddlePaddle Yolo with OpenVINO - Object Detection Sample Code\n",
    "\n",
    "This sample shows how to run the PaddlePaddle Yolo Detection algorithm with OpenVINO natively.\n",
    "\n",
    "PPYOLO Model Configuration: \n",
    "- https://github.com/PaddlePaddle/PaddleDetection/tree/release/2.1/configs/ppyolo\n",
    "\n",
    "PPYOLO Annotation Data:\n",
    "- https://github.com/PaddlePaddle/PaddleDetection/blob/release/2.2/docs/tutorials/config_annotation/ppyolo_r50vd_dcn_1x_coco_annotation.md\n"
   ]
  },
  {
   "cell_type": "code",
   "execution_count": 1,
   "id": "145af6bd-5f75-41f5-a32e-c406f839c9a3",
   "metadata": {},
   "outputs": [
    {
     "name": "stdout",
     "output_type": "stream",
     "text": [
      "Requirement already satisfied: Pillow in /home/ling/workspace/openvino_env/lib/python3.6/site-packages\n",
      "Requirement already satisfied: pyyaml in /home/ling/workspace/openvino_env/lib/python3.6/site-packages\n"
     ]
    }
   ],
   "source": [
    "!pip install Pillow\n",
    "!pip install pyyaml"
   ]
  },
  {
   "cell_type": "code",
   "execution_count": 2,
   "id": "42575a74-26f4-42dc-a603-fbbe6adac6d2",
   "metadata": {},
   "outputs": [],
   "source": [
    "import os, sys\n",
    "import numpy as np\n",
    "import cv2\n",
    "from openvino.inference_engine import IENetwork, IECore, ExecutableNetwork\n",
    "from IPython import display\n",
    "from PIL import Image, ImageDraw\n",
    "import urllib, shutil, json\n",
    "import yaml\n",
    "from yaml.loader import SafeLoader"
   ]
  },
  {
   "cell_type": "code",
   "execution_count": 3,
   "id": "afb4799f-ecaf-46f7-a9fb-c806548e0b2c",
   "metadata": {},
   "outputs": [],
   "source": [
    "#Helper functions\n",
    "def image_preprocess(input_image, size):\n",
    "    img = cv2.resize(input_image, (size,size))\n",
    "    img = np.transpose(img, [2,0,1]) / 255\n",
    "    img = np.expand_dims(img, 0)\n",
    "    ##NormalizeImage: {mean: [0.485, 0.456, 0.406], std: [0.229, 0.224, 0.225], is_scale: True}\n",
    "    img_mean = np.array([0.485, 0.456,0.406]).reshape((3,1,1))\n",
    "    img_std = np.array([0.229, 0.224, 0.225]).reshape((3,1,1))\n",
    "    img -= img_mean\n",
    "    img /= img_std\n",
    "    return img.astype(np.float32)\n",
    "\n",
    "def draw_box(img, results, label_text, scale_x, scale_y):\n",
    "    for i in range(len(results)):\n",
    "        #print(results[i])\n",
    "        bbox = results[i, 2:]\n",
    "        label_id = int(results[i, 0])\n",
    "        score = results[i, 1]\n",
    "        if(score>0.20):\n",
    "            xmin, ymin, xmax, ymax = [int(bbox[0]*scale_x), int(bbox[1]*scale_y), \n",
    "                                      int(bbox[2]*scale_x), int(bbox[3]*scale_y)]\n",
    "            cv2.rectangle(img,(xmin, ymin),(xmax, ymax),(0,255,0),3)\n",
    "            font = cv2.FONT_HERSHEY_SIMPLEX\n",
    "            label_text = label_list[label_id];\n",
    "            cv2.rectangle(img, (xmin, ymin), (xmax, ymin-70), (0,255,0), -1)\n",
    "            cv2.putText(img, \"#\"+label_text,(xmin,ymin-10), font, 1.2,(255,255,255), 2,cv2.LINE_AA)\n",
    "            cv2.putText(img, str(score),(xmin,ymin-40), font, 0.8,(255,255,255), 2,cv2.LINE_AA)\n",
    "    return img"
   ]
  },
  {
   "cell_type": "code",
   "execution_count": 4,
   "id": "981ce595-44db-483c-a96f-46b7b5df44d7",
   "metadata": {},
   "outputs": [],
   "source": [
    "!pip install --upgrade paddlepaddle>=2.1 -i https://mirror.baidu.com/pypi/simple"
   ]
  },
  {
   "cell_type": "markdown",
   "id": "20511f8b-f787-401d-bd1e-b867748e941d",
   "metadata": {},
   "source": [
    "Export static pdmodel from PaddleDetection. It may take a while for the first time to download it. You don't need to compile or install it.  \n",
    "\n",
    "Please refer to this guide on how to export static model -\n",
    "https://github.com/PaddlePaddle/PaddleDetection/tree/release/2.2/deploy\n",
    "\n",
    "Please refer to for PPYolo models -\n",
    "https://github.com/PaddlePaddle/PaddleDetection/blob/release/2.2/configs/ppyolo/README_cn.md"
   ]
  },
  {
   "cell_type": "code",
   "execution_count": 5,
   "id": "d796126e-9ea5-4b4a-ac4e-76db33268e0a",
   "metadata": {},
   "outputs": [
    {
     "name": "stdout",
     "output_type": "stream",
     "text": [
      "fatal: 目标路径 'PaddleDetection' 已经存在，并且不是一个空目录。\n"
     ]
    }
   ],
   "source": [
    "!git clone git@github.com:PaddlePaddle/PaddleDetection.git"
   ]
  },
  {
   "cell_type": "code",
   "execution_count": 6,
   "id": "d5fb57de-43c2-4fd3-97a3-109dc30d7812",
   "metadata": {},
   "outputs": [
    {
     "name": "stdout",
     "output_type": "stream",
     "text": [
      "[08/19 08:19:21] ppdet.utils.checkpoint INFO: Finish loading model weights: /home/ling/.cache/paddle/weights/ppyolo_r50vd_dcn_1x_coco.pdparams\n",
      "[08/19 08:19:21] ppdet.engine INFO: Export inference config file to models/ppyolo_r50vd_dcn_1x_coco/infer_cfg.yml\n",
      "[08/19 08:19:26] ppdet.engine INFO: Export model and saved in models/ppyolo_r50vd_dcn_1x_coco\n"
     ]
    }
   ],
   "source": [
    "YML_CONFIG=\"configs/ppyolo/ppyolo_r50vd_dcn_1x_coco.yml\"\n",
    "PRETRAINED=\"ppyolo_r50vd_dcn_1x_coco.pdparams\"\n",
    "OUTPUT_DIR=\"models\"\n",
    "\n",
    "!python PaddleDetection/tools/export_model.py -c PaddleDetection/$YML_CONFIG -o use_gpu=false weights=https://paddledet.bj.bcebos.com/models/$PRETRAINED  TestReader.inputs_def.image_shape=[3,608,608] --output_dir=$OUTPUT_DIR"
   ]
  },
  {
   "cell_type": "code",
   "execution_count": 7,
   "id": "6d570175-1829-4020-87b2-fc9e8564db91",
   "metadata": {},
   "outputs": [
    {
     "name": "stdout",
     "output_type": "stream",
     "text": [
      "[08/19 08:19:32] ppdet.utils.checkpoint INFO: Finish loading model weights: /home/ling/.cache/paddle/weights/yolov3_darknet53_270e_coco.pdparams\n",
      "[08/19 08:19:32] ppdet.engine INFO: Export inference config file to models/yolov3_darknet53_270e_coco/infer_cfg.yml\n",
      "[08/19 08:19:37] ppdet.engine INFO: Export model and saved in models/yolov3_darknet53_270e_coco\n"
     ]
    }
   ],
   "source": [
    "YML_CONFIG=\"configs/yolov3/yolov3_darknet53_270e_coco.yml\"\n",
    "PRETRAINED=\"yolov3_darknet53_270e_coco.pdparams\"\n",
    "OUTPUT_DIR=\"models\"\n",
    "\n",
    "!python PaddleDetection/tools/export_model.py -c PaddleDetection/$YML_CONFIG -o use_gpu=false weights=https://paddledet.bj.bcebos.com/models/$PRETRAINED  TestReader.inputs_def.image_shape=[3,608,608] --output_dir=$OUTPUT_DIR"
   ]
  },
  {
   "cell_type": "code",
   "execution_count": 8,
   "id": "f7cd5b4f-b110-489c-97e3-b6a9828d6376",
   "metadata": {},
   "outputs": [],
   "source": [
    "# You can switch between two different models here\n",
    "#PPYolo\n",
    "pdmodel_path = \"models/ppyolo_r50vd_dcn_1x_coco\"\n",
    "#yolov3\n",
    "#pdmodel_path = \"models/yolov3_darknet53_270e_coco\"\n",
    "\n",
    "pdmodel_file = pdmodel_path + \"/model.pdmodel\"\n",
    "pdmodel_config = pdmodel_path + \"/infer_cfg.yml\"\n",
    "device = 'CPU'\n",
    "\n",
    "#load the data from config, and setup the parameters\n",
    "label_list=[]\n",
    "with open(pdmodel_config) as f:\n",
    "    data = yaml.load(f, Loader=SafeLoader)\n",
    "label_list = data['label_list'];"
   ]
  },
  {
   "cell_type": "code",
   "execution_count": 9,
   "id": "5c585a04-0aa4-4b72-9f10-48543fb79c3b",
   "metadata": {},
   "outputs": [],
   "source": [
    "ie = IECore()\n",
    "net = ie.read_network(pdmodel_file)\n",
    "\n",
    "net.reshape({'image': [1, 3, 608, 608], 'im_shape': [\n",
    "            1, 2], 'scale_factor': [1, 2]})\n",
    "\n",
    "exec_net = ie.load_network(net, device)\n",
    "assert isinstance(exec_net, ExecutableNetwork)"
   ]
  },
  {
   "cell_type": "code",
   "execution_count": null,
   "id": "ef23f5cf-0c7f-49eb-93fc-93db086d8d8f",
   "metadata": {},
   "outputs": [],
   "source": [
    "input_image = cv2.imread(\"horse.jpg\")\n",
    "test_image = image_preprocess(input_image, 608)\n",
    "test_im_shape = np.array([[608, 608]]).astype('float32')\n",
    "test_scale_factor = np.array([[1, 2]]).astype('float32')\n",
    "#print(test_image.shape)\n",
    "\n",
    "inputs_dict = {'image': test_image, \"im_shape\": test_im_shape,\n",
    "               \"scale_factor\": test_scale_factor}\n",
    "\n",
    "output = exec_net.infer(inputs_dict)\n",
    "result_ie = list(output.values())"
   ]
  },
  {
   "cell_type": "code",
   "execution_count": null,
   "id": "a65c8377-bd45-4e93-9d69-835081593eab",
   "metadata": {},
   "outputs": [],
   "source": [
    "result_image = cv2.imread(\"horse.jpg\")\n",
    "scale_x = result_image.shape[1]/608*2\n",
    "scale_y = result_image.shape[0]/608\n",
    "result_image = draw_box(result_image, result_ie[0], label_list, scale_x, scale_y)\n",
    "_,ret_array = cv2.imencode('.jpg', result_image) \n",
    "i = display.Image(data=ret_array)            \n",
    "display.display(i)\n",
    "\n",
    "cv2.imwrite(\"yolo-output.png\",result_image) "
   ]
  },
  {
   "cell_type": "code",
   "execution_count": null,
   "id": "014d94f9-1398-4e1b-b160-f08aeaa1a451",
   "metadata": {},
   "outputs": [],
   "source": [
    "import paddle\n",
    "\n",
    "def paddle_infer(pdmodel_file, input_dict):\n",
    "    paddle.enable_static()\n",
    "\n",
    "    # load model\n",
    "    exe = paddle.static.Executor(paddle.CPUPlace())\n",
    "    [inference_program, feed_target_names, fetch_targets] = paddle.static.load_inference_model(\n",
    "                        os.path.splitext(pdmodel_file)[0], # pdmodel prefix\n",
    "                        exe)\n",
    "    \n",
    "    print(feed_target_names, fetch_targets)\n",
    "\n",
    "    # run\n",
    "    output_lod = exe.run(inference_program, feed=input_dict, fetch_list=fetch_targets, return_numpy=False)\n",
    "    return output_lod\n",
    "\n",
    "output_lod = paddle_infer(pdmodel_file, inputs_dict)\n",
    "print(np.array(output_lod[0]).shape, np.array(output_lod[1]).shape)\n"
   ]
  },
  {
   "cell_type": "code",
   "execution_count": null,
   "id": "c700d918-7ad4-4114-8491-c77426bfd5d9",
   "metadata": {},
   "outputs": [],
   "source": [
    "result_image = cv2.imread(\"horse.jpg\")\n",
    "scale_x = result_image.shape[1]/608*2\n",
    "scale_y = result_image.shape[0]/608\n",
    "result_image = draw_box(result_image, np.array(output_lod[0]), label_list, scale_x, scale_y)\n",
    "_,ret_array = cv2.imencode('.jpg', result_image) \n",
    "i = display.Image(data=ret_array)            \n",
    "display.display(i)\n",
    "\n",
    "cv2.imwrite(\"yolo-output.png\",result_image) "
   ]
  },
  {
   "cell_type": "code",
   "execution_count": null,
   "id": "a200b3f4-205f-4adb-b6dd-0073784bb719",
   "metadata": {},
   "outputs": [],
   "source": [
    "def YoloVideo(VideoIndex=0, scale=0.5):\n",
    "    #PPYolo3\n",
    "    pdmodel_path = \"models/yolov3_darknet53_270e_coco\"\n",
    "\n",
    "    pdmodel_file = pdmodel_path + \"/model.pdmodel\"\n",
    "    pdmodel_config = pdmodel_path + \"/infer_cfg.yml\"\n",
    "    device = 'CPU'\n",
    "\n",
    "    #load the data from config, and setup the parameters\n",
    "    label_list=[]\n",
    "    with open(pdmodel_config) as f:\n",
    "        data = yaml.load(f, Loader=SafeLoader)\n",
    "    label_list = data['label_list'];\n",
    "    \n",
    "    ie = IECore()\n",
    "    net = ie.read_network(pdmodel_file)\n",
    "\n",
    "    net.reshape({'image': [1, 3, 608, 608], 'im_shape': [\n",
    "                1, 2], 'scale_factor': [1, 2]})\n",
    "\n",
    "    exec_net = ie.load_network(net, device)\n",
    "    assert isinstance(exec_net, ExecutableNetwork)\n",
    "    \n",
    "    try:\n",
    "        cap = cv2.VideoCapture(VideoIndex)\n",
    "    except:\n",
    "        print(\"Cannot Open Device\")\n",
    "        del exec_net\n",
    "    try:\n",
    "        ret, frame = cap.read()\n",
    "        \n",
    "        while(ret==True):\n",
    "            # Capture frame-by-frame\n",
    "            ret, frame = cap.read()\n",
    "            \n",
    "            if not ret:\n",
    "                # Release the Video Device if ret is false\n",
    "                cap.release()\n",
    "                # Message to be displayed after releasing the device\n",
    "                print (\"Released Video Resource\")\n",
    "                break\n",
    "            #frame = cv2.cvtColor(frame, cv2.COLOR_BGR2RGB)\n",
    "            half_frame = cv2.resize(frame, (0, 0), fx = scale, fy = scale)\n",
    "             \n",
    "            #Processing the Frame\n",
    "            test_image = image_preprocess(half_frame, 608)\n",
    "            test_im_shape = np.array([[608, 608]]).astype('float32')\n",
    "            test_scale_factor = np.array([[1, 2]]).astype('float32')\n",
    "            #print(test_image.shape)\n",
    "            inputs_dict = {'image': test_image, \"im_shape\": test_im_shape,\n",
    "                           \"scale_factor\": test_scale_factor}\n",
    "\n",
    "            output = exec_net.infer(inputs_dict)\n",
    "            result_ie = list(output.values())\n",
    "            \n",
    "            result_image = half_frame.copy()\n",
    "            #result_image = cv2.resize(result_image, (int(608*1.0),int(608*1.0)))\n",
    "            scale_x = result_image.shape[1]/608*2\n",
    "            scale_y = result_image.shape[0]/608\n",
    "            \n",
    "            result_image = draw_box(result_image, result_ie[0], label_list, scale_x, scale_y)\n",
    "            \n",
    "            #convert to jpg for performance results\n",
    "            _,ret_array = cv2.imencode('.jpg', result_image) \n",
    "            i = display.Image(data=ret_array)            \n",
    "            \n",
    "            display.display(i)\n",
    "            display.clear_output(wait=True)\n",
    "    except KeyboardInterrupt:\n",
    "        # Release the Video Device\n",
    "        cap.release()\n",
    "        # Message to be displayed after releasing the device\n",
    "        print(\"Released Video Resource from KeyboardInterrupt\")\n",
    "        del exec_net\n",
    "    pass"
   ]
  },
  {
   "cell_type": "code",
   "execution_count": null,
   "id": "c9a2cae5-917f-4321-9307-98463ef1c732",
   "metadata": {},
   "outputs": [],
   "source": [
    "YoloVideo(1, 0.5)"
   ]
  },
  {
   "cell_type": "code",
   "execution_count": null,
   "id": "cff56a8b-d899-4219-9bb9-4e9d83c2642c",
   "metadata": {},
   "outputs": [],
   "source": []
  }
 ],
 "metadata": {
  "kernelspec": {
   "display_name": "openvino_env",
   "language": "python",
   "name": "openvino_env"
  },
  "language_info": {
   "codemirror_mode": {
    "name": "ipython",
    "version": 3
   },
   "file_extension": ".py",
   "mimetype": "text/x-python",
   "name": "python",
   "nbconvert_exporter": "python",
   "pygments_lexer": "ipython3",
   "version": "3.6.9"
  }
 },
 "nbformat": 4,
 "nbformat_minor": 5
}
